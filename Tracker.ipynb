{
 "cells": [
  {
   "cell_type": "code",
   "execution_count": 2,
   "id": "4727863e-bdd1-4182-b209-8b0779b7ef97",
   "metadata": {},
   "outputs": [
    {
     "name": "stdout",
     "output_type": "stream",
     "text": [
      "===== Expense Tracker =====\n",
      "1. Add Expense\n",
      "2. View Expense\n",
      "3. Exit\n"
     ]
    },
    {
     "name": "stdin",
     "output_type": "stream",
     "text": [
      "Enter Choice:  1\n",
      "Enter expense name:  sneha\n",
      "Enter category (eg: Food, Travel, Clothes):  food\n",
      "Enter amount:  2000\n"
     ]
    },
    {
     "name": "stdout",
     "output_type": "stream",
     "text": [
      "✅ Expense added successfully!\n",
      "\n",
      "===== Expense Tracker =====\n",
      "1. Add Expense\n",
      "2. View Expense\n",
      "3. Exit\n"
     ]
    },
    {
     "name": "stdin",
     "output_type": "stream",
     "text": [
      "Enter Choice:  2\n"
     ]
    },
    {
     "name": "stdout",
     "output_type": "stream",
     "text": [
      "\n",
      "--- All Expenses ---\n",
      "sneha           | food       | ₹2000.0\n",
      "Total expense: ₹2000.0\n",
      "\n",
      "===== Expense Tracker =====\n",
      "1. Add Expense\n",
      "2. View Expense\n",
      "3. Exit\n"
     ]
    },
    {
     "name": "stdin",
     "output_type": "stream",
     "text": [
      "Enter Choice:  3\n"
     ]
    },
    {
     "name": "stdout",
     "output_type": "stream",
     "text": [
      "Goodbye 👋\n"
     ]
    }
   ],
   "source": [
    "File_name = \"expense.csv\"\n",
    "\n",
    "\n",
    "try:\n",
    "    with open(File_name, \"x\") as file:\n",
    "        file.write(\"Name,Category,Amount\\n\")\n",
    "except FileExistsError:\n",
    "    pass\n",
    "\n",
    "def add_expense():\n",
    "    name = input(\"Enter expense name: \")\n",
    "    category = input(\"Enter category (eg: Food, Travel, Clothes): \")\n",
    "    amount = float(input(\"Enter amount: \"))\n",
    "\n",
    "    with open(File_name, \"a\") as file:\n",
    "        file.write(f\"{name},{category},{amount}\\n\")\n",
    "\n",
    "    print(\"\\u2705 Expense added successfully!\\n\")\n",
    "\n",
    "def view_expense():\n",
    "    total = 0\n",
    "    print(\"\\n--- All Expenses ---\")\n",
    "    with open(File_name, \"r\") as file:\n",
    "        next(file) \n",
    "        for line in file:\n",
    "            name, category, amount = line.strip().split(\",\")\n",
    "            print(f\"{name:15} | {category:10} | ₹{amount}\")\n",
    "            total += float(amount)\n",
    "    print(f\"Total expense: ₹{total}\\n\")\n",
    "\n",
    "def main():\n",
    "    while True:\n",
    "        print(\"===== Expense Tracker =====\")\n",
    "        print(\"1. Add Expense\")\n",
    "        print(\"2. View Expense\")\n",
    "        print(\"3. Exit\")\n",
    "\n",
    "        choice = input(\"Enter Choice: \")\n",
    "        if choice == \"1\":\n",
    "            add_expense()\n",
    "        elif choice == \"2\":\n",
    "            view_expense()\n",
    "        elif choice == \"3\":\n",
    "            print(\"Goodbye 👋\")\n",
    "            break\n",
    "        else:\n",
    "            print(\"Invalid choice. Try again later!\\n\")\n",
    "\n",
    "if __name__ == \"__main__\":\n",
    "    main()\n"
   ]
  },
  {
   "cell_type": "code",
   "execution_count": null,
   "id": "fae2116e-8d4b-4470-bd47-9987c997ce85",
   "metadata": {},
   "outputs": [],
   "source": []
  }
 ],
 "metadata": {
  "kernelspec": {
   "display_name": "Python 3 (ipykernel)",
   "language": "python",
   "name": "python3"
  },
  "language_info": {
   "codemirror_mode": {
    "name": "ipython",
    "version": 3
   },
   "file_extension": ".py",
   "mimetype": "text/x-python",
   "name": "python",
   "nbconvert_exporter": "python",
   "pygments_lexer": "ipython3",
   "version": "3.13.2"
  }
 },
 "nbformat": 4,
 "nbformat_minor": 5
}
